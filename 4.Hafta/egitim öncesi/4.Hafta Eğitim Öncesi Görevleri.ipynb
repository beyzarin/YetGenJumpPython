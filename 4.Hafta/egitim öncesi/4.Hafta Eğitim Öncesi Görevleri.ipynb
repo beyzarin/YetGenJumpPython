{
 "cells": [
  {
   "cell_type": "markdown",
   "metadata": {
    "id": "-My6RWLrhXIq"
   },
   "source": [
    "# Problem 1\n",
    "Sözlükleri kullanarak bir telefon rehberi yazın. Bu rehberde kullanıcıya kimin telefonunu görüntülemek istediğini sorun ve kullanıcının girdiği isme göre o kişinin telefon numarasını yazdırın. Proje sonunda elde edeceğiniz çıktı  şuna benzer olmalı:\n",
    "\n",
    "\n",
    "Lütfen numarasını öğrenmek istediğiniz kişinin adını girin: Ahmet\n",
    "\n",
    "Ahmet isimli kişinin numarası şu şekildedir: 0532 678 13 19"
   ]
  },
  {
   "cell_type": "code",
   "execution_count": 3,
   "metadata": {
    "id": "LHIQEhchhXIu"
   },
   "outputs": [
    {
     "name": "stdout",
     "output_type": "stream",
     "text": [
      "Ahmet isimli kişinin numarası 0532 678 13 19\n"
     ]
    }
   ],
   "source": [
    "# 1.Problemin Çözümünü Buraya Yazınız\n",
    "dic_rehber = {\"Ahmet\" : \"0532 678 13 19\" , \"Beyza\" : \"0598 456 89 56\"} #sözlüklere value olarak sayı girilir mi\n",
    "x = input(\"Lütfen numarasını görmek istediğiniz kişinin adını giriniz:\")\n",
    "\n",
    "if x in dic_rehber : \n",
    "    print(f\"{x} isimli kişinin numarası {dic_rehber[x]}\")\n",
    "else:\n",
    "    print(\"Bu numara rehbere kayıtlı değildir\")"
   ]
  },
  {
   "cell_type": "markdown",
   "metadata": {
    "id": "rlgfjEi7hXIv"
   },
   "source": [
    "\n",
    "# Problem 2\n",
    "Sözlükleri kullanarak bir şirket çalışanları indeksi oluşturun. Bu isim indeksinde kişilerin isimleri key, kişilerin  memleket, yaş ve görev bilgileri value olmalıdır. Burada kullanacağımız value değerleri liste olmalıdır.\n",
    "\n",
    "\n",
    "Daha sonra bir isim sorgulama ekranı gibi kullanıcıya kimin bilgilerini görüntülemek istediğini \n",
    "sorun ve sorgulanan kişinin ekranda gösterilmesini sağlayın. Proje sonunda elde edeceğiniz çıktı şu şekilde olmalı:\n",
    "\n",
    "\n",
    "Lütfen bilgilerini görüntülemek istediğiniz çalışanın ismini girin: Mehmet Yağız\n",
    "\n",
    "Mehmet Yağız= Memleket: Adana Yaş: 40 Görev: Direktör"
   ]
  },
  {
   "cell_type": "code",
   "execution_count": 4,
   "metadata": {
    "id": "O09zrrs0hXIv"
   },
   "outputs": [
    {
     "name": "stdout",
     "output_type": "stream",
     "text": [
      "Mehmet Yağız = Memeleket : Adana Yaş : 40 Görev : Direktör \n"
     ]
    }
   ],
   "source": [
    "# 2.Problemin Çözümünü Buraya Yazınız\n",
    "dic_bilgi = {\"Mehmet Yağız\":[\"Adana\", \"40\",\"Direktör\"],\n",
    "             \"Beyza Sapmaz\":[\"Antalya\",\"21\",\"Stajyer\"]}\n",
    "isim = input(\"Lütfen bilgilerini görüntülemek istediğiniz çalışanın ismini girin:\")\n",
    "\n",
    "if isim in dic_bilgi : \n",
    "    print(f\"{isim} = Memeleket : {dic_bilgi[isim][0]} Yaş : {dic_bilgi[isim][1]} Görev : {dic_bilgi[isim][2]} \")\n",
    "else:\n",
    "    print(\"Aradığınız kişi veri tabanında kayıtlı değildir.\")"
   ]
  },
  {
   "cell_type": "markdown",
   "metadata": {
    "id": "G67ztXG-hXIw"
   },
   "source": [
    "# Problem 3\n",
    "\n",
    "3 öğrenciden oluşan bir öğrenci not sözlüğü oluşturun. Bu sözlükte öğrencilerin notları value olarak bir listede toplansın.\n",
    "\n",
    "Kullanıcıya hangi öğrencinin notlarını görmek istediğini sorun. Öğrencinin notu görüntülendiğinde program sonunda şöyle bir çıktı elde etmelisiniz:\n",
    "\n",
    "```\n",
    "Lütfen notlarını görmek istediğiniz öğrencinin adını girin: Mehmet\n",
    "\n",
    "Mehmet isimli öğrencinin      1.Sınav Notu:72\n",
    "                              2.Sınav Notu:66\n",
    "                              3.Sınav Notu:48\n",
    "Not Ortalaması: 62.0\n"
   ]
  },
  {
   "cell_type": "code",
   "execution_count": 12,
   "metadata": {
    "id": "TXQ_fuCHhXIw"
   },
   "outputs": [
    {
     "name": "stdout",
     "output_type": "stream",
     "text": [
      "Mehmet isimli öğrencinin\t\t \n",
      "          1.Sınav notu : 72\t\n",
      "          2.Sınav notu : 66\t\n",
      "          3.Sınav notu : 48\n",
      "Not Ortalaması : 62.0 \n"
     ]
    }
   ],
   "source": [
    "# 3.Problemin Çözümünü Buraya Yazınız\n",
    "ogrenci_not = {\"Mehmet\" : [72,66,48] , \n",
    "               \"Beyza\":[99,98,100],\n",
    "               \"Ayşe\":[88,45,90]}\n",
    "x = input(\"Hangi öğrencinin notlarını görmek istersiniz\")\n",
    "\n",
    "if x in ogrenci_not : \n",
    "    print(f\"\"\"{x} isimli öğrencinin\\t\\t \n",
    "          1.Sınav notu : {ogrenci_not[x][0]}\\t\n",
    "          2.Sınav notu : {ogrenci_not[x][1]}\\t\n",
    "          3.Sınav notu : {ogrenci_not[x][2]}\n",
    "Not Ortalaması : {(ogrenci_not[x][0] + ogrenci_not[x][1]+ogrenci_not[x][2]) / 3} \"\"\")"
   ]
  },
  {
   "cell_type": "markdown",
   "metadata": {
    "id": "oel6A5WFhXIw"
   },
   "source": [
    "# Problem 4"
   ]
  },
  {
   "cell_type": "code",
   "execution_count": 55,
   "metadata": {
    "id": "jVRdspCrhXIx"
   },
   "outputs": [
    {
     "name": "stdout",
     "output_type": "stream",
     "text": [
      "uzunluk: 4\n",
      "ilk eleman :Bmw,son eleman:Mazda\n",
      "['Mazda', 'Mercedes', 'Opel', 'Bmw']\n",
      "Opel\n",
      "['Mazda', 'Mercedes', 'Opel']\n",
      "['Mazda', 'Mercedes', 'Renault', 'Toyoto']\n",
      "['Mazda', 'Mercedes', 'Renault', 'Toyoto', 'Audi', 'Nissan']\n",
      "['Mazda', 'Mercedes', 'Renault', 'Toyoto', 'Audi']\n",
      "['Audi', 'Toyoto', 'Renault', 'Mercedes', 'Mazda']\n",
      "[{'name': 'Yiğit Bilgi', 'birth_year': 2010, 'grades': (70, 60, 70)}, {'name': 'Sena Turan', 'birth_year': 1999, 'grades': (80, 80, 70)}, {'name': 'Ahmet Turan', 'birth_year': 1998, 'grades': (80, 70, 90)}]\n",
      "['Ali', 'Yağmur', 'Hakan', 'Deniz']\n",
      "[1998, 2000, 1998, 1987]\n",
      "['Ali', 'Yağmur', 'Hakan', 'Deniz', 'Cenk']\n",
      "['Sena', 'Ali', 'Yağmur', 'Hakan', 'Deniz', 'Cenk']\n",
      "['Sena', 'Ali', 'Yağmur', 'Hakan', 'Cenk']\n",
      "True\n",
      "['Cenk', 'Hakan', 'Yağmur', 'Ali', 'Sena']\n",
      "['Ali', 'Cenk', 'Hakan', 'Sena', 'Yağmur']\n",
      "[1987, 1998, 1998, 2000]\n",
      "['Chevrolet', 'Dacia']\n",
      "2\n",
      "[]\n",
      "['toyota', 'nike', 'hundai']\n"
     ]
    }
   ],
   "source": [
    "# 1-  \"Bmw, Mercedes, Opel, Mazda\" elemanlarına sahip bir liste oluşturunuz.\n",
    "oto = [\"Bmw\", \"Mercedes\", \"Opel\", \"Mazda\"]\n",
    "# 2-  Liste Kaç elemanlıdır\n",
    "\n",
    "print(\"uzunluk:\",len(oto))\n",
    "# 3-  Listenin ilk ve son elemanı nedir ?\n",
    "print(f\"ilk eleman :{oto[0]},son eleman:{oto[-1]}\")\n",
    "# 4-  Mazda değerini Toyota ile değiştirin.\n",
    "a = oto[0]\n",
    "oto[0] = oto[-1]\n",
    "oto[-1] = a\n",
    "print(oto)\n",
    "# 5-  Listenin -2 indeksindeki değer nedir ?\n",
    "print(oto[-2])\n",
    "# 6-  Listenin ilk 3 elemanını alın.\n",
    "print(oto[0:3])\n",
    "# 7-  Listenin son 2 elemanı yerine \"Toyota\" ve \"Renault\" değerlerini ekleyin.\n",
    "oto[-1] = \"Toyoto\" \n",
    "oto[-2] = \"Renault\"\n",
    "print(oto)\n",
    "# 8-  Listenin üzerine \"Audi\" ve \"Nissan\" değerlerini ekleyin.\n",
    "oto.append(\"Audi\")\n",
    "oto.append(\"Nissan\")\n",
    "print(oto)\n",
    "# 9- Listenin son elemanını silin.\n",
    "oto.pop()\n",
    "print(oto)\n",
    "# 10- Liste elemanlarını tersten yazdırınız.\n",
    "#print(oto,oto.reverse()) ---- ['Audi', 'Toyoto', 'Renault', 'Mercedes', 'Mazda'] None neden bu çıktı geldi?\n",
    "oto.reverse()\n",
    "print(oto)\n",
    "# 11- Aşağıdaki verileri bir liste içinde saklayınız. \n",
    "\n",
    "      # studentA: Yiğit Bilgi 2010, (70,60,70)\n",
    "      # studentB: Sena Turan  1999, (80,80,70)\n",
    "      # studentC: Ahmet Turan 1998, (80,70,90) \n",
    "students = [\n",
    "    {\n",
    "        \"name\": \"Yiğit Bilgi\",\n",
    "        \"birth_year\": 2010,\n",
    "        \"grades\": (70, 60, 70)\n",
    "    },\n",
    "    {\n",
    "        \"name\": \"Sena Turan\",\n",
    "        \"birth_year\": 1999,\n",
    "        \"grades\": (80, 80, 70)\n",
    "    },\n",
    "    {\n",
    "        \"name\": \"Ahmet Turan\",\n",
    "        \"birth_year\": 1998,\n",
    "        \"grades\": (80, 70, 90)\n",
    "    }\n",
    "]\n",
    "\n",
    "print(students)\n",
    "\n",
    "# 12- Liste elemanlarını ekrana yazdırınız.\n",
    "\n",
    "  \n",
    "names = ['Ali','Yağmur','Hakan','Deniz']\n",
    "years = [1998, 2000, 1998, 1987]\n",
    "\n",
    "print(names)\n",
    "print(years)\n",
    "# 13-  \"Cenk\" ismini listenin sonuna ekleyiniz.\n",
    "names.append(\"Cenk\")\n",
    "print(names)\n",
    "\n",
    "# 14-  \"Sena\" değerini listenin başına ekleyiniz.\n",
    "names.insert(0,\"Sena\")\n",
    "print(names)\n",
    "\n",
    "# 15-  \"Deniz\" ismini listeden siliniz.\n",
    "names.remove(\"Deniz\")\n",
    "print(names)\n",
    "# 16-  \"Ali\" listenin bir elemanı mıdır ?\n",
    "is_ali_in_list = \"Ali\" in names\n",
    "print(is_ali_in_list)\n",
    "# 17-  Liste elemanlarını ters çevirin.\n",
    "names.reverse()\n",
    "print(names)\n",
    "# 18-  Liste elemanlarını alfabetik olarak sıralayınız.\n",
    "names.sort()\n",
    "print(names)\n",
    "\n",
    "# 19-  years listesini rakamsal büyüklüğe göre sıralayınız.\n",
    "years.sort()\n",
    "print(years)\n",
    "# 20-  str = \"Chevrolet,Dacia\" karakter dizisini listeye çeviriniz.\n",
    "str = \"Chevrolet,Dacia\"\n",
    "\n",
    "print(str.split(\",\"))\n",
    "\n",
    "# 21- years dizisinde kaç tane 1998 değeri vardır ?\n",
    "count_1998 = years.count(1998)\n",
    "print(count_1998)\n",
    "\n",
    "# 22- years dizisinin tüm elemanlarını siliniz.\n",
    "years.clear()\n",
    "print(years)\n",
    "\n",
    "# 23- Kullanıcıdan alacağınız 3 tane marka bilgisini bir listede saklayınız.\n",
    "x = input(\"aralarında boşluk olcak şekilde 3 tane marla ismi yazınız\")\n",
    "print(x.split(\" \"))\n"
   ]
  },
  {
   "cell_type": "code",
   "execution_count": null,
   "metadata": {},
   "outputs": [],
   "source": [
    "#remove verdiğimiz elemanı siler #list\n"
   ]
  }
 ],
 "metadata": {
  "colab": {
   "provenance": []
  },
  "kernelspec": {
   "display_name": "Python 3",
   "language": "python",
   "name": "python3"
  },
  "language_info": {
   "codemirror_mode": {
    "name": "ipython",
    "version": 3
   },
   "file_extension": ".py",
   "mimetype": "text/x-python",
   "name": "python",
   "nbconvert_exporter": "python",
   "pygments_lexer": "ipython3",
   "version": "3.13.2"
  },
  "orig_nbformat": 4
 },
 "nbformat": 4,
 "nbformat_minor": 0
}
