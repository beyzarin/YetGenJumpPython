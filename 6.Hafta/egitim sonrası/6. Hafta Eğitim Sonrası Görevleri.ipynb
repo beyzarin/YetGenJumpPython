{
 "cells": [
  {
   "cell_type": "markdown",
   "metadata": {
    "id": "unoTPlV_tJOm"
   },
   "source": [
    "# Problem 1 \n",
    "Bir sayının çift olup olmadığını sorgulayan bir fonksiyon yazın. Bu fonksiyon, eğer sayı çift ise bu değeri dönsün. Ancak sayı tek sayı ise fonksiyon raise ile ValueError hatası oluştursun. Daha sonra, içinde çift ve tek sayılar bulunduran bir liste tanımlayın ve liste üzerinde gezinerek ekrana sadece çift sayıları bastırın."
   ]
  },
  {
   "cell_type": "code",
   "execution_count": 1,
   "metadata": {
    "id": "7oyBSeXptJOp"
   },
   "outputs": [
    {
     "name": "stdout",
     "output_type": "stream",
     "text": [
      "1 bir tek sayıdır.\n",
      "2\n",
      "3 bir tek sayıdır.\n",
      "4\n",
      "5 bir tek sayıdır.\n",
      "6\n",
      "7 bir tek sayıdır.\n",
      "8\n",
      "9 bir tek sayıdır.\n",
      "10\n"
     ]
    }
   ],
   "source": [
    "# 1.Problemin Çözümünü Buraya Yazınız\n",
    "def check_even(number):\n",
    "    if number % 2 == 0:\n",
    "        return number\n",
    "    else:\n",
    "        raise ValueError(f\"{number} bir tek sayıdır.\")\n",
    "\n",
    "numbers = [1, 2, 3, 4, 5, 6, 7, 8, 9, 10]\n",
    "\n",
    "\n",
    "for num in numbers:\n",
    "    try:\n",
    "        even_number = check_even(num)\n",
    "        print(even_number)\n",
    "    except ValueError as e:\n",
    "        # Hata mesajını bastır\n",
    "        print(e)\n"
   ]
  },
  {
   "cell_type": "markdown",
   "metadata": {
    "id": "CdfzJ2A9tJOq"
   },
   "source": [
    "# Problem 2\n",
    "\n",
    "2 YetGen lideri ders sırasında canları sıkılınca oyun oynamak isterler. Ancak hangi oyunu oynayacaklarına karar veremezler ve son olarak kendi oyunlarını yazmaya karar verirler.\n",
    "Liderlerimizin kodlamak istediği oyun kuralları şöyledir:\n",
    "- Oyunda random olarak 0 ile 100 arasında bir sayı tutulur.\n",
    "- Kullanıcıdan bilgisayarın tuttuğu sayıyı tahmin etmesi için bir sayı girmesini istenir.\n",
    "- Eğer kullanıcının girdiği sayı bulunması gereken sayıdan küçükse  tahmininizi yükseltin, büyükse tahmininizi düşürün şeklinde bir çıktı verilir.\n",
    "- Oyunun gerçeğe yakın olması için bilgisayarın çalışmasını simgelemek için 1 saniye bekleme süresi tanınır.\n",
    "- Kullanıcı 5 hakkı vardır. 5 hakkı da kullanıp sayıyı bulamazsa oyunu kaybeder."
   ]
  },
  {
   "cell_type": "code",
   "execution_count": 2,
   "metadata": {
    "id": "A1VEETgCtJOr"
   },
   "outputs": [
    {
     "name": "stdout",
     "output_type": "stream",
     "text": [
      "0 ile 100 arasında bir sayı tuttum. Tahmin et bakalım!\n",
      "Tahmininizi yükseltin.\n",
      "Kalan hakkınız: 4\n",
      "Tahmininizi yükseltin.\n",
      "Kalan hakkınız: 3\n",
      "Tahmininizi yükseltin.\n",
      "Kalan hakkınız: 2\n",
      "Tahmininizi düşürün.\n",
      "Kalan hakkınız: 1\n",
      "Tahmininizi yükseltin.\n",
      "Kalan hakkınız: 0\n",
      "Maalesef, hakkınız bitti. Doğru cevap: 33.\n"
     ]
    }
   ],
   "source": [
    "# 2.Problemin Çözümünü Buraya Yazınız\n",
    "import random\n",
    "import time\n",
    "\n",
    "def sayi_tahmin_oyunu():\n",
    "    sayi = random.randint(0, 100)\n",
    "    hak = 5\n",
    "\n",
    "    print(\"0 ile 100 arasında bir sayı tuttum. Tahmin et bakalım!\")\n",
    "\n",
    "    while hak > 0:\n",
    "        tahmin = int(input(\"Tahmininiz: \"))\n",
    "        time.sleep(1)  # 1 saniye bekleme süresi\n",
    "\n",
    "        if tahmin < sayi:\n",
    "            print(\"Tahmininizi yükseltin.\")\n",
    "        elif tahmin > sayi:\n",
    "            print(\"Tahmininizi düşürün.\")\n",
    "        else:\n",
    "            print(\"Tebrikler, doğru tahmin!\")\n",
    "            return\n",
    "\n",
    "        hak -= 1\n",
    "        print(f\"Kalan hakkınız: {hak}\")\n",
    "\n",
    "    print(f\"Maalesef, hakkınız bitti. Doğru cevap: {sayi}.\")\n",
    "\n",
    "sayi_tahmin_oyunu()\n"
   ]
  }
 ],
 "metadata": {
  "colab": {
   "provenance": []
  },
  "kernelspec": {
   "display_name": "Python 3",
   "language": "python",
   "name": "python3"
  },
  "language_info": {
   "codemirror_mode": {
    "name": "ipython",
    "version": 3
   },
   "file_extension": ".py",
   "mimetype": "text/x-python",
   "name": "python",
   "nbconvert_exporter": "python",
   "pygments_lexer": "ipython3",
   "version": "3.13.2"
  },
  "orig_nbformat": 4,
  "vscode": {
   "interpreter": {
    "hash": "5026d2d6e7aaaaba093def813beadff083d8733e4a511af01735cbabd156995d"
   }
  }
 },
 "nbformat": 4,
 "nbformat_minor": 0
}
