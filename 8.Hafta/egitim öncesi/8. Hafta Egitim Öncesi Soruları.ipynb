{
 "cells": [
  {
   "cell_type": "markdown",
   "metadata": {
    "id": "Pzh44PAE5H61"
   },
   "source": [
    "# Problem 1 \n",
    "Kullanıcıdan aldığı ürün bilgisini (ad, fiyat) urunler.txt dosyasına kayıt eden fonksiyonu yazınız."
   ]
  },
  {
   "cell_type": "code",
   "execution_count": 4,
   "metadata": {
    "id": "uKw3Wap95H64"
   },
   "outputs": [
    {
     "name": "stdout",
     "output_type": "stream",
     "text": [
      "cips - 60 TL\n",
      "cips - 60 TL\n",
      "çikolata - 30 TL\n",
      "\n"
     ]
    }
   ],
   "source": [
    "# 1.Problemin Çözümünü Buraya Yazınız\n",
    "def urun_kaydet():\n",
    "    ad = input(\"Ürünün ismini giriniz: \")\n",
    "    fiyat = input(\"Ürünün fiyatını giriniz: \")\n",
    "\n",
    "    with open(\"urunler.txt\", \"a\", encoding=\"utf-8\") as file:\n",
    "        file.write(f\"{ad} - {fiyat} TL\\n\")\n",
    "\n",
    "urun_kaydet()\n",
    "\n",
    "def urunleri_goster():\n",
    "    with open(\"urunler.txt\", \"r\", encoding=\"utf-8\") as file:\n",
    "        icerik = file.read()\n",
    "        print(icerik)\n",
    "\n",
    "urunleri_goster()\n"
   ]
  },
  {
   "cell_type": "markdown",
   "metadata": {
    "id": "Lw7xy19D5H66"
   },
   "source": [
    "# Problem 2\n",
    "1.problemde oluşturulan text dosyası içerisinde kullanıcıdan alacağımız eski kelime isimli değişkene atadığımız \n",
    "ve değiştirilmesini istediğimiz kelimemizi yerini alıcak olan yeni kelime isimli değişkene atayın. Belirlenen kelimeleri text dosyasında değiştiren fonksiyonu yazınız."
   ]
  },
  {
   "cell_type": "code",
   "execution_count": 10,
   "metadata": {
    "id": "jDlym3ko5H66"
   },
   "outputs": [
    {
     "name": "stdout",
     "output_type": "stream",
     "text": [
      "cips - 60 TL\n",
      "cips - 60 TL\n",
      "çilek - 30 TL\n",
      "\n"
     ]
    }
   ],
   "source": [
    "# 2.Problemin Çözümünü Buraya Yazınız\n",
    "def urun_degistirme():\n",
    "    with open(\"urunler.txt\", \"r\", encoding=\"utf-8\") as file:\n",
    "        liste = file.readlines()\n",
    "\n",
    "    eski_kelime = input(\"Değiştirmek istediğiniz ürünün adını giriniz: \")\n",
    "    yeni_kelime = input(\"Yeni aldığınız ürünün ismini yazınız: \")\n",
    "\n",
    "   \n",
    "    for i in range(len(liste)):\n",
    "        if liste[i].startswith(eski_kelime):\n",
    "            liste[i] = liste[i].replace(eski_kelime, yeni_kelime)\n",
    "            break  # ilk bulduğunu değiştir, diğerlerini bırak\n",
    "\n",
    "    with open(\"urunler.txt\", \"w\", encoding=\"utf-8\") as file:\n",
    "        file.writelines(liste)\n",
    "\n",
    "\n",
    "urun_degistirme()\n",
    "urunleri_goster()\n"
   ]
  },
  {
   "cell_type": "markdown",
   "metadata": {
    "id": "3aSYk4FF5H67"
   },
   "source": [
    "# Problem 3\n",
    "Vehicle sınıfının tüm değişkenlerini ve yöntemlerini devralacak bir alt sınıf olarak Bus sınıfı oluşturunuz.\n",
    "\n",
    "\n",
    "\n",
    "```\n",
    "Output\n",
    "> Name: School Volvo Speed: 180 Mileage: 12\n",
    "```\n"
   ]
  },
  {
   "cell_type": "code",
   "execution_count": 17,
   "metadata": {
    "id": "PwCI6Xkb5H68"
   },
   "outputs": [
    {
     "name": "stdout",
     "output_type": "stream",
     "text": [
      "Name:School Volvo Speed : 180 Milage: 12\n"
     ]
    }
   ],
   "source": [
    "# 3.Problemin Çözümünü Buraya Yazınız\n",
    "class Vehicle:\n",
    "    def __init__(self, name, speed, milage):\n",
    "        self.name = name\n",
    "        self.speed = speed\n",
    "        self.milage = milage\n",
    "\n",
    "class Bus(Vehicle):\n",
    "    def __init__(self, name, speed, milage):\n",
    "        super().__init__(name, speed, milage)\n",
    "        print(f\"Name:{self.name} Speed : {self.speed} Milage: {self.milage}\")\n",
    "\n",
    "b1 = Bus(\"School Volvo\", \"180\",\"12\")\n",
    "    "
   ]
  }
 ],
 "metadata": {
  "colab": {
   "provenance": []
  },
  "kernelspec": {
   "display_name": "Python 3",
   "language": "python",
   "name": "python3"
  },
  "language_info": {
   "codemirror_mode": {
    "name": "ipython",
    "version": 3
   },
   "file_extension": ".py",
   "mimetype": "text/x-python",
   "name": "python",
   "nbconvert_exporter": "python",
   "pygments_lexer": "ipython3",
   "version": "3.13.2"
  },
  "orig_nbformat": 4,
  "vscode": {
   "interpreter": {
    "hash": "5026d2d6e7aaaaba093def813beadff083d8733e4a511af01735cbabd156995d"
   }
  }
 },
 "nbformat": 4,
 "nbformat_minor": 0
}
