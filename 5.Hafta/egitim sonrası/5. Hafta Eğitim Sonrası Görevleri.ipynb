{
 "cells": [
  {
   "cell_type": "markdown",
   "metadata": {
    "id": "Rm1DKmXZM-Ja"
   },
   "source": [
    "# Problem 1\n",
    "\n",
    "Fizikte, bir nesnenin sabit ivmeyle hareket ederken son hızını \n",
    "(veya hızını) bulmak için aşağıdaki denklem kullanılabilir:\n",
    "```\n",
    "vf = vi + at\n",
    "burada:\n",
    "vf= son hız\n",
    "vi= ilk hız\n",
    "a= hızlanma\n",
    "t= zaman\n",
    "```\n",
    "İlk hız, ivme ve zaman verildiğinde, son hızı döndürecek bir fonksiyon yazın."
   ]
  },
  {
   "cell_type": "code",
   "execution_count": 1,
   "metadata": {
    "id": "vWrjJiV0M-Jk"
   },
   "outputs": [
    {
     "name": "stdout",
     "output_type": "stream",
     "text": [
      "25\n"
     ]
    }
   ],
   "source": [
    "# 1.Problemin Çözümünü Buraya Yazınız\n",
    "def son_hiz_func(vi,a,t):\n",
    "    vf = vi + (a * t)\n",
    "    return vf\n",
    "vi = int(input(\"İlk hızı giriniz\"))\n",
    "a = int(input(\"İvmeyi giriniz\"))\n",
    "t = int(input(\"zamanı giriniz\"))\n",
    "\n",
    "print(son_hiz_func(vi,a,t))\n",
    "\n"
   ]
  },
  {
   "cell_type": "markdown",
   "metadata": {
    "id": "uAHpyY5HM-Jq"
   },
   "source": [
    "# Problem 2\n",
    "\n",
    "1'den 1000'e kadar olan sayılardan mükemmel sayı olanları ekrana yazdırın. Bunun için bir sayının mükemmel olup olmadığını dönen bir tane fonksiyon yazın.\n",
    "\n",
    "Bir sayının bölenlerinin toplamı kendine eşitse bu sayı mükemmel bir sayıdır. Örnek olarak 6 mükemmel bir sayıdır (1 + 2 + 3 = 6)."
   ]
  },
  {
   "cell_type": "code",
   "execution_count": 1,
   "metadata": {
    "id": "yrY4Y5ncM-Jr"
   },
   "outputs": [
    {
     "name": "stdout",
     "output_type": "stream",
     "text": [
      "(6, 'sayısı mükemmel değildir.')\n"
     ]
    }
   ],
   "source": [
    "# 2.Problemin Çözümünü Buraya Yazınız\n",
    "def mukemmel(sayi) :\n",
    "    sum = 0\n",
    "\n",
    "    for i in range(1,1001):\n",
    "     if sayi % i == 0 :\n",
    "        sum += i\n",
    "    if sum == sayi :\n",
    "  \n",
    "      return(sayi, \"sayısı mükemmel sayıdır.\")\n",
    "    else:\n",
    "      return(sayi, \"sayısı mükemmel değildir.\")\n",
    "     \n",
    "sayi = int(input(\"bir sayı giriniz:\"))\n",
    "print(mukemmel(sayi))"
   ]
  },
  {
   "cell_type": "markdown",
   "metadata": {
    "id": "C2-XwlJtM-Jr"
   },
   "source": [
    "# Problem 3\n",
    "\n",
    "1'den 100'e kadar olan sayılardan pisagor üçgeni oluşturanları ekrana yazdıran bir fonksiyon yazın.(a <= 100,b <= 100)\n"
   ]
  },
  {
   "cell_type": "code",
   "execution_count": 18,
   "metadata": {
    "id": "BMNy4xi-M-Js"
   },
   "outputs": [
    {
     "name": "stdout",
     "output_type": "stream",
     "text": [
      "[{'kısa dik uzunluk': 3, 'uzun dik uzunluk': 4, 'hipotenüs': 5}, {'kısa dik uzunluk': 5, 'uzun dik uzunluk': 12, 'hipotenüs': 13}, {'kısa dik uzunluk': 6, 'uzun dik uzunluk': 8, 'hipotenüs': 10}, {'kısa dik uzunluk': 7, 'uzun dik uzunluk': 24, 'hipotenüs': 25}, {'kısa dik uzunluk': 8, 'uzun dik uzunluk': 15, 'hipotenüs': 17}, {'kısa dik uzunluk': 9, 'uzun dik uzunluk': 12, 'hipotenüs': 15}, {'kısa dik uzunluk': 9, 'uzun dik uzunluk': 40, 'hipotenüs': 41}, {'kısa dik uzunluk': 10, 'uzun dik uzunluk': 24, 'hipotenüs': 26}, {'kısa dik uzunluk': 11, 'uzun dik uzunluk': 60, 'hipotenüs': 61}, {'kısa dik uzunluk': 12, 'uzun dik uzunluk': 16, 'hipotenüs': 20}, {'kısa dik uzunluk': 12, 'uzun dik uzunluk': 35, 'hipotenüs': 37}, {'kısa dik uzunluk': 13, 'uzun dik uzunluk': 84, 'hipotenüs': 85}, {'kısa dik uzunluk': 14, 'uzun dik uzunluk': 48, 'hipotenüs': 50}, {'kısa dik uzunluk': 15, 'uzun dik uzunluk': 20, 'hipotenüs': 25}, {'kısa dik uzunluk': 15, 'uzun dik uzunluk': 36, 'hipotenüs': 39}, {'kısa dik uzunluk': 16, 'uzun dik uzunluk': 30, 'hipotenüs': 34}, {'kısa dik uzunluk': 16, 'uzun dik uzunluk': 63, 'hipotenüs': 65}, {'kısa dik uzunluk': 18, 'uzun dik uzunluk': 24, 'hipotenüs': 30}, {'kısa dik uzunluk': 18, 'uzun dik uzunluk': 80, 'hipotenüs': 82}, {'kısa dik uzunluk': 20, 'uzun dik uzunluk': 21, 'hipotenüs': 29}, {'kısa dik uzunluk': 20, 'uzun dik uzunluk': 48, 'hipotenüs': 52}, {'kısa dik uzunluk': 21, 'uzun dik uzunluk': 28, 'hipotenüs': 35}, {'kısa dik uzunluk': 21, 'uzun dik uzunluk': 72, 'hipotenüs': 75}, {'kısa dik uzunluk': 24, 'uzun dik uzunluk': 32, 'hipotenüs': 40}, {'kısa dik uzunluk': 24, 'uzun dik uzunluk': 45, 'hipotenüs': 51}, {'kısa dik uzunluk': 24, 'uzun dik uzunluk': 70, 'hipotenüs': 74}, {'kısa dik uzunluk': 25, 'uzun dik uzunluk': 60, 'hipotenüs': 65}, {'kısa dik uzunluk': 27, 'uzun dik uzunluk': 36, 'hipotenüs': 45}, {'kısa dik uzunluk': 28, 'uzun dik uzunluk': 45, 'hipotenüs': 53}, {'kısa dik uzunluk': 28, 'uzun dik uzunluk': 96, 'hipotenüs': 100}, {'kısa dik uzunluk': 30, 'uzun dik uzunluk': 40, 'hipotenüs': 50}, {'kısa dik uzunluk': 30, 'uzun dik uzunluk': 72, 'hipotenüs': 78}, {'kısa dik uzunluk': 32, 'uzun dik uzunluk': 60, 'hipotenüs': 68}, {'kısa dik uzunluk': 33, 'uzun dik uzunluk': 44, 'hipotenüs': 55}, {'kısa dik uzunluk': 33, 'uzun dik uzunluk': 56, 'hipotenüs': 65}, {'kısa dik uzunluk': 35, 'uzun dik uzunluk': 84, 'hipotenüs': 91}, {'kısa dik uzunluk': 36, 'uzun dik uzunluk': 48, 'hipotenüs': 60}, {'kısa dik uzunluk': 36, 'uzun dik uzunluk': 77, 'hipotenüs': 85}, {'kısa dik uzunluk': 39, 'uzun dik uzunluk': 52, 'hipotenüs': 65}, {'kısa dik uzunluk': 39, 'uzun dik uzunluk': 80, 'hipotenüs': 89}, {'kısa dik uzunluk': 40, 'uzun dik uzunluk': 42, 'hipotenüs': 58}, {'kısa dik uzunluk': 40, 'uzun dik uzunluk': 75, 'hipotenüs': 85}, {'kısa dik uzunluk': 42, 'uzun dik uzunluk': 56, 'hipotenüs': 70}, {'kısa dik uzunluk': 45, 'uzun dik uzunluk': 60, 'hipotenüs': 75}, {'kısa dik uzunluk': 48, 'uzun dik uzunluk': 55, 'hipotenüs': 73}, {'kısa dik uzunluk': 48, 'uzun dik uzunluk': 64, 'hipotenüs': 80}, {'kısa dik uzunluk': 51, 'uzun dik uzunluk': 68, 'hipotenüs': 85}, {'kısa dik uzunluk': 54, 'uzun dik uzunluk': 72, 'hipotenüs': 90}, {'kısa dik uzunluk': 57, 'uzun dik uzunluk': 76, 'hipotenüs': 95}, {'kısa dik uzunluk': 60, 'uzun dik uzunluk': 63, 'hipotenüs': 87}, {'kısa dik uzunluk': 60, 'uzun dik uzunluk': 80, 'hipotenüs': 100}, {'kısa dik uzunluk': 65, 'uzun dik uzunluk': 72, 'hipotenüs': 97}]\n"
     ]
    }
   ],
   "source": [
    "# 3.Problemin Çözümünü Buraya Yazınız # a<b<c\n",
    "def pisagor():\n",
    "    pisagor_cikti = []  \n",
    "\n",
    "    for a in range(1, 101):\n",
    "        for b in range(a + 1, 101):  \n",
    "            c = (a**2 + b**2)**0.5  \n",
    "            if c == int(c) and c <= 100:  \n",
    "               \n",
    "                pisagor_cikti.append({\n",
    "                    \"kısa dik uzunluk\": a,\n",
    "                    \"uzun dik uzunluk\": b,\n",
    "                    \"hipotenüs\": int(c)\n",
    "                })\n",
    "    \n",
    "    return pisagor_cikti\n",
    "\n",
    "pisagor_cikti = pisagor()\n",
    "\n",
    "#for ucluler in pisagor_cikti:\n",
    "   # print(ucluler)\n",
    "print(pisagor_cikti)\n"
   ]
  },
  {
   "cell_type": "markdown",
   "metadata": {
    "id": "oPfmWi4jM-Js"
   },
   "source": [
    "# Problem 4\n",
    "\n",
    "Bir duvar boyamaya karar verdiniz. Boya kutusunun üzerindeki talimatta, 1 kutu boyanın 5 metrekarelik bir duvarı boyayabileceği yazıyor. Rastgele bir duvar yüksekliği ve genişliği verildiğinde, kaç kutu boya satın almanız gerektiğini hesaplayın.\n",
    "\n",
    "kutu sayısı = (duvar yüksekliği * duvar genişliği) ÷ kutu başına kaplama.\n",
    "\n",
    "örneğin Yükseklik = 2, Genişlik = 4, Kaplama = 5\n",
    "\n",
    "kutu sayısı = (2 * 4) ÷ 5 = 1.6\n",
    "\n",
    "Ancak bir kutu boyanın 0,6'sını satın alamayacağınız için, sonuç 2 kutuya yuvarlanmalıdır .\n"
   ]
  },
  {
   "cell_type": "code",
   "execution_count": 21,
   "metadata": {
    "id": "0zuyzSp5M-Jt"
   },
   "outputs": [
    {
     "name": "stdout",
     "output_type": "stream",
     "text": [
      "Duvar için gerekli boya kutusu sayısı: 2\n"
     ]
    }
   ],
   "source": [
    "# 4.Problemin Çözümünü Buraya Yazınız\n",
    "def boyama(h,x):\n",
    "    kutu_sayisi = (h * x) / 5 \n",
    "    return round(kutu_sayisi)\n",
    "h = int(input(\"Yüksekliği giriniz\"))\n",
    "x = int(input(\"Genişliği griniz\"))\n",
    "\n",
    "print(\"Duvar için gerekli boya kutusu sayısı:\",boyama(h,x))"
   ]
  },
  {
   "cell_type": "markdown",
   "metadata": {
    "id": "pe6TJuBBM-Ju"
   },
   "source": [
    "# Problem 5\n",
    "\n",
    "Bir kelimedeki ünlü ve ünsüz harfleri sayan bir fonksiyon yazınız."
   ]
  },
  {
   "cell_type": "code",
   "execution_count": 27,
   "metadata": {
    "id": "LJ0opjiLM-Ju"
   },
   "outputs": [
    {
     "name": "stdout",
     "output_type": "stream",
     "text": [
      "(2, 3)\n"
     ]
    }
   ],
   "source": [
    "# 5.Problemin Çözümünü Buraya Yazınız\n",
    "def harf_sayici(x):\n",
    "\n",
    "    unluler = [\"a\",\"e\",\"ı\",\"i\",\"u\",\"ü\",\"o\",\"ö\"]\n",
    "    kelimedeki_unlu = []\n",
    "    kelimedeki_unsuz = []\n",
    "    for harf in x : \n",
    "      if harf in  unluler:\n",
    "        kelimedeki_unlu.append(harf)\n",
    "        \n",
    "      else:\n",
    "        kelimedeki_unsuz.append(harf)\n",
    "    return len(kelimedeki_unlu) , len(kelimedeki_unsuz)   \n",
    "\n",
    "kelime = input(\"Bir kelime girniz\")\n",
    "\n",
    "print(harf_sayici(kelime))\n",
    "\n",
    "#unlu_sayisi, unsuz_sayisi = harf_sayici(kelime)\n",
    "#print(f\"Ünlü harf sayısı: {unlu_sayisi}\")\n",
    "#print(f\"Ünsüz harf sayısı: {unsuz_sayisi}\")"
   ]
  },
  {
   "cell_type": "code",
   "execution_count": 28,
   "metadata": {},
   "outputs": [
    {
     "name": "stdout",
     "output_type": "stream",
     "text": [
      "Ünlü harf sayısı: 2\n",
      "Ünsüz harf sayısı: 3\n"
     ]
    }
   ],
   "source": [
    "#altarnatif\n",
    "def harf_sayici(x):\n",
    "    unluler = \"aeıiuüoö\"\n",
    "    kelimedeki_unlu = [harf for harf in x if harf in unluler]  # Ünlü harfleri listeye ekle\n",
    "    kelimedeki_unsuz = [harf for harf in x if harf not in unluler]  # Ünsüz harfleri listeye ekle\n",
    "    return len(kelimedeki_unlu), len(kelimedeki_unsuz)  # Ünlü ve ünsüz harf sayısını döndür\n",
    "\n",
    "kelime = input(\"Bir kelime giriniz: \")\n",
    "unlu_sayisi, unsuz_sayisi = harf_sayici(kelime)\n",
    "print(f\"Ünlü harf sayısı: {unlu_sayisi}\\nÜnsüz harf sayısı: {unsuz_sayisi}\")\n"
   ]
  },
  {
   "cell_type": "code",
   "execution_count": 29,
   "metadata": {},
   "outputs": [
    {
     "name": "stdout",
     "output_type": "stream",
     "text": [
      "Ünlü harf sayısı: 2\n",
      "Ünsüz harf sayısı: 3\n"
     ]
    }
   ],
   "source": [
    "#altarnatif 2\n",
    "def harf_sayici(x):\n",
    "    unluler = \"aeıiuüoö\"\n",
    "    unlu_sayisi = sum(1 for harf in x if harf in unluler)\n",
    "    return unlu_sayisi, len(x) - unlu_sayisi\n",
    "\n",
    "kelime = input(\"Bir kelime giriniz: \")\n",
    "unlu_sayisi, unsuz_sayisi = harf_sayici(kelime)\n",
    "print(f\"Ünlü harf sayısı: {unlu_sayisi}\\nÜnsüz harf sayısı: {unsuz_sayisi}\")\n"
   ]
  },
  {
   "cell_type": "code",
   "execution_count": null,
   "metadata": {},
   "outputs": [],
   "source": [
    "#unlu_sayisi = sum(1 for harf in x if harf in unluler) satırının açılmış hali\n",
    "def harf_sayici(x):\n",
    "    unluler = \"aeıiuüoö\"\n",
    "    unlu_sayisi = 0  # Ünlü harf sayısını sıfırla başlatıyoruz\n",
    "\n",
    "    for harf in x:  # Her harf üzerinde dönüyoruz\n",
    "        if harf in unluler:  # Eğer harf ünlü harfler arasında ise\n",
    "            unlu_sayisi += 1  # Ünlü harf sayısını bir artırıyoruz\n",
    "\n",
    "    return unlu_sayisi  # Sonuç olarak ünlü harf sayısını döndürüyoruz\n"
   ]
  },
  {
   "cell_type": "markdown",
   "metadata": {
    "id": "Lfls2YTXM-Jv"
   },
   "source": [
    "# Problem 6\n",
    "\n",
    "Verilen bir listeden çift sayıları yazdıran bir fonksiyon yazınız.\n"
   ]
  },
  {
   "cell_type": "code",
   "execution_count": 33,
   "metadata": {
    "id": "qUwsL20IM-Jv"
   },
   "outputs": [
    {
     "name": "stdout",
     "output_type": "stream",
     "text": [
      "[2, 6, 8]\n"
     ]
    }
   ],
   "source": [
    "# 6.Problemin Çözümünü Buraya Yazınız\n",
    "def cift(list) :\n",
    "    \n",
    "    cift_sayilar = []\n",
    "    for i in list :\n",
    "        if i % 2 == 0 :\n",
    "            cift_sayilar.append(i)\n",
    "    return cift_sayilar\n",
    "\n",
    "list = [2,5,6,7,8]\n",
    "\n",
    "print(cift(list))\n",
    "\n"
   ]
  },
  {
   "cell_type": "markdown",
   "metadata": {
    "id": "IPp724iIM-Jy"
   },
   "source": [
    "# Problem 7\n",
    "\n",
    "0'dan 10'a kadar olan sayıların toplamını hesaplayan özyinelemeli (Recursive Function) bir fonksiyon oluşturan bir fonksiyon yazınız.\n",
    "\n",
    "Özyinelemeli (Recursive Function) bir işlev, kendini tekrar tekrar çağıran bir işlevdir."
   ]
  },
  {
   "cell_type": "code",
   "execution_count": null,
   "metadata": {
    "id": "KFW6xhTJM-Jz"
   },
   "outputs": [
    {
     "name": "stdout",
     "output_type": "stream",
     "text": [
      "55\n"
     ]
    }
   ],
   "source": [
    "# 7.Problemin Çözümünü Buraya Yazınız\n",
    "# bu yinelemeli değilmiş çünkü döngü kullanmılmış doğrusunu chat yazdı bir altta\n",
    "def sum(x):\n",
    "    toplam = 0\n",
    "    for i in range(0,11):\n",
    "        toplam += i\n",
    "    return toplam\n",
    "\n",
    "print(sum(x))\n"
   ]
  },
  {
   "cell_type": "code",
   "execution_count": null,
   "metadata": {},
   "outputs": [
    {
     "name": "stdout",
     "output_type": "stream",
     "text": [
      "55\n"
     ]
    }
   ],
   "source": [
    "#kendi kendini çağıran fonksiyondur\n",
    "def sum_recursive(x, n=0):  # n başlangıçta 0'dan başlar\n",
    "    if n > 10:  # Temel durum: Eğer n 10'dan büyükse, toplamayı bitiririz\n",
    "        return 0\n",
    "    else:\n",
    "        return n + sum_recursive(x, n + 1)  # Özyineleme: n + sum_recursive(n+1)\n",
    "\n",
    "print(sum_recursive(0))  # Çıktı: 55\n"
   ]
  }
 ],
 "metadata": {
  "colab": {
   "provenance": []
  },
  "kernelspec": {
   "display_name": "Python 3",
   "language": "python",
   "name": "python3"
  },
  "language_info": {
   "codemirror_mode": {
    "name": "ipython",
    "version": 3
   },
   "file_extension": ".py",
   "mimetype": "text/x-python",
   "name": "python",
   "nbconvert_exporter": "python",
   "pygments_lexer": "ipython3",
   "version": "3.13.2"
  },
  "orig_nbformat": 4
 },
 "nbformat": 4,
 "nbformat_minor": 0
}
