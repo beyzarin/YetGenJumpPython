{
 "cells": [
  {
   "attachments": {},
   "cell_type": "markdown",
   "metadata": {},
   "source": [
    "# Problem 1 \n",
    "Seaborn kütüphanesi içerisinden Titanic veri setini tanımlayınız."
   ]
  },
  {
   "cell_type": "code",
   "execution_count": 1,
   "metadata": {},
   "outputs": [
    {
     "name": "stdout",
     "output_type": "stream",
     "text": [
      "   survived  pclass     sex   age  sibsp  parch     fare embarked  class  \\\n",
      "0         0       3    male  22.0      1      0   7.2500        S  Third   \n",
      "1         1       1  female  38.0      1      0  71.2833        C  First   \n",
      "2         1       3  female  26.0      0      0   7.9250        S  Third   \n",
      "\n",
      "     who  adult_male deck  embark_town alive  alone  \n",
      "0    man        True  NaN  Southampton    no  False  \n",
      "1  woman       False    C    Cherbourg   yes  False  \n",
      "2  woman       False  NaN  Southampton   yes   True  \n"
     ]
    }
   ],
   "source": [
    "# 1.Problemin Çözümünü Buraya Yazınız\n",
    "import seaborn as sns\n",
    "titanic = sns.load_dataset('titanic')\n",
    "print(titanic.head(3))\n",
    "\n",
    "\n",
    "\n",
    "\n"
   ]
  },
  {
   "attachments": {},
   "cell_type": "markdown",
   "metadata": {},
   "source": [
    "# Problem 2\n",
    "Titanic veri setindeki kadın ve erkek yolcuların sayısını bulunuz."
   ]
  },
  {
   "cell_type": "code",
   "execution_count": 6,
   "metadata": {},
   "outputs": [
    {
     "name": "stdout",
     "output_type": "stream",
     "text": [
      "\n",
      "Titanic veri seti yüklenemediği için yolcu sayıları hesaplanamadı.\n"
     ]
    }
   ],
   "source": [
    "# 2.Problemin Çözümünü Buraya Yazınız\n",
    "\n",
    "if 'titanic_df' in locals() and not titanic_df.empty:\n",
    "\n",
    "    cinsiyet_sayilari = titanic_df['sex'].value_counts()\n",
    "\n",
    "    print(\"\\nTitanic veri setindeki kadın ve erkek yolcu sayıları:\")\n",
    "    print(cinsiyet_sayilari)\n",
    "\n",
    "\n",
    "else:\n",
    "    print(\"\\nTitanic veri seti yüklenemediği için yolcu sayıları hesaplanamadı.\")\n"
   ]
  },
  {
   "attachments": {},
   "cell_type": "markdown",
   "metadata": {},
   "source": [
    "# Problem 3\n",
    "Her bir sutuna ait unique değerlerin sayısını bulunuz."
   ]
  },
  {
   "cell_type": "code",
   "execution_count": 7,
   "metadata": {},
   "outputs": [
    {
     "name": "stdout",
     "output_type": "stream",
     "text": [
      "\n",
      "Her bir sütundaki unique değer sayısı:\n",
      "survived         2\n",
      "pclass           3\n",
      "sex              2\n",
      "age             88\n",
      "sibsp            7\n",
      "parch            7\n",
      "fare           248\n",
      "embarked         3\n",
      "class            3\n",
      "who              3\n",
      "adult_male       2\n",
      "deck             7\n",
      "embark_town      3\n",
      "alive            2\n",
      "alone            2\n",
      "dtype: int64\n"
     ]
    }
   ],
   "source": [
    "# 3.Problemin Çözümünü Buraya Yazınız\n",
    "import pandas as pd\n",
    "\n",
    "\n",
    "try:\n",
    "    if 'titanic_df' not in locals() or titanic_df.empty:\n",
    "         titanic_df = sns.load_dataset('titanic')\n",
    "         \n",
    "except Exception as e:\n",
    "    print(f\"Titanic veri seti yüklenirken bir hata oluştu: {e}\")\n",
    "\n",
    "\n",
    "# Problem 3: Her bir sütuna ait unique değerlerin sayısını bulunuz.\n",
    "if 'titanic_df' in locals() and not titanic_df.empty:\n",
    "    print(\"\\nHer bir sütundaki unique değer sayısı:\")\n",
    "    unique_counts = titanic_df.nunique()\n",
    "\n",
    "    # Sonuçları yazdır\n",
    "    print(unique_counts)\n",
    "else:\n",
    "    print(\"\\nTitanic veri seti yüklenemediği için unique değer sayıları hesaplanamadı.\")"
   ]
  },
  {
   "attachments": {},
   "cell_type": "markdown",
   "metadata": {},
   "source": [
    "# Problem 4\n",
    "pclass değişkeninin unique değerlerinin sayısını bulunuz."
   ]
  },
  {
   "cell_type": "code",
   "execution_count": null,
   "metadata": {},
   "outputs": [
    {
     "name": "stdout",
     "output_type": "stream",
     "text": [
      "\n",
      "'pclass' sütunundaki unique değer sayısı: 3\n"
     ]
    }
   ],
   "source": [
    "# 4.Problemin Çözümünü Buraya Yazınız\n",
    "import seaborn as sns\n",
    "import pandas as pd\n",
    "\n",
    "try:\n",
    "    if 'titanic_df' not in locals() or titanic_df.empty:\n",
    "         titanic_df = sns.load_dataset('titanic')\n",
    "         # print(\"Titanic veri seti tekrar yüklendi.\") # İsteğe bağlı bilgilendirme\n",
    "except Exception as e:\n",
    "    print(f\"Titanic veri seti yüklenirken bir hata oluştu: {e}\")\n",
    "\n",
    "\n",
    "if 'titanic_df' in locals() and not titanic_df.empty:\n",
    "    pclass_unique_count = titanic_df['pclass'].nunique()\n",
    "\n",
    "    print(f\"\\n'pclass' sütunundaki unique değer sayısı: {pclass_unique_count}\")\n",
    "\n",
    "else:\n",
    "    print(\"\\nTitanic veri seti yüklenemediği için 'pclass' unique değer sayısı hesaplanamadı.\")\n"
   ]
  },
  {
   "attachments": {},
   "cell_type": "markdown",
   "metadata": {},
   "source": [
    "# Problem 5\n",
    "pclass ve parch değişkenlerinin unique değerlerinin sayısını bulunuz"
   ]
  },
  {
   "cell_type": "code",
   "execution_count": 10,
   "metadata": {},
   "outputs": [
    {
     "name": "stdout",
     "output_type": "stream",
     "text": [
      "\n",
      "'pclass' sütunundaki unique değer sayısı: 3\n",
      "'parch' sütunundaki unique değer sayısı: 7\n"
     ]
    }
   ],
   "source": [
    "# 5.Problemin Çözümünü Buraya Yazınız\n",
    "\n",
    "try:\n",
    "    if 'titanic_df' not in locals() or (isinstance(titanic_df, pd.DataFrame) and titanic_df.empty):\n",
    "         titanic_df = sns.load_dataset('titanic')\n",
    "except Exception as e:\n",
    "    print(f\"Titanic veri seti yüklenirken bir hata oluştu: {e}\")\n",
    "\n",
    "\n",
    "if 'titanic_df' in locals() and (isinstance(titanic_df, pd.DataFrame) and not titanic_df.empty):\n",
    "    pclass_unique_count = titanic_df['pclass'].nunique()\n",
    "\n",
    "    parch_unique_count = titanic_df['parch'].nunique()\n",
    "\n",
    "    print(f\"\\n'pclass' sütunundaki unique değer sayısı: {pclass_unique_count}\")\n",
    "    print(f\"'parch' sütunundaki unique değer sayısı: {parch_unique_count}\")\n",
    "\n",
    "   \n",
    "else:\n",
    "    print(\"\\nTitanic veri seti yüklenemediği için 'pclass' ve 'parch' unique değer sayıları hesaplanamadı.\")\n"
   ]
  },
  {
   "attachments": {},
   "cell_type": "markdown",
   "metadata": {},
   "source": [
    "# Problem 6\n",
    "embarked değişkeninin tipini kontrol ediniz. Tipini category olarak değiştiriniz ve tekrar kontrol ediniz."
   ]
  },
  {
   "cell_type": "code",
   "execution_count": null,
   "metadata": {},
   "outputs": [],
   "source": [
    "# 6.Problemin Çözümünü Buraya Yazınız"
   ]
  },
  {
   "attachments": {},
   "cell_type": "markdown",
   "metadata": {},
   "source": [
    "# Problem 7\n",
    "embarked değeri C olanların tüm bilgilerini gösteriniz."
   ]
  },
  {
   "cell_type": "code",
   "execution_count": null,
   "metadata": {},
   "outputs": [],
   "source": [
    "# 7.Problemin Çözümünü Buraya Yazınız"
   ]
  },
  {
   "attachments": {},
   "cell_type": "markdown",
   "metadata": {},
   "source": [
    "# Problem 8\n",
    "embarked değeri S olmayanların tüm bilgelerini gösteriniz."
   ]
  },
  {
   "cell_type": "code",
   "execution_count": null,
   "metadata": {},
   "outputs": [],
   "source": [
    "# 8.Problemin Çözümünü Buraya Yazınız"
   ]
  },
  {
   "attachments": {},
   "cell_type": "markdown",
   "metadata": {},
   "source": [
    "# Problem 9\n",
    "\n",
    "Yaşı 30 dan küçük ve kadın olan yolcuların tüm bilgilerini gösteriniz."
   ]
  },
  {
   "cell_type": "code",
   "execution_count": null,
   "metadata": {},
   "outputs": [],
   "source": [
    "# 9.Problemin Çözümünü Buraya Yazınız"
   ]
  },
  {
   "attachments": {},
   "cell_type": "markdown",
   "metadata": {},
   "source": [
    "# Problem 10\n",
    "Fare'i 500'den büyük veya yaşı 70’den büyük yolcuların bilgilerini gösteriniz"
   ]
  },
  {
   "cell_type": "code",
   "execution_count": null,
   "metadata": {},
   "outputs": [],
   "source": [
    "# 10.Problemin Çözümünü Buraya Yazınız"
   ]
  },
  {
   "attachments": {},
   "cell_type": "markdown",
   "metadata": {},
   "source": [
    "# Problem 11\n",
    "Her bir değişkendeki boş değerlerin toplamını bulunuz."
   ]
  },
  {
   "cell_type": "code",
   "execution_count": null,
   "metadata": {},
   "outputs": [],
   "source": [
    "# 11.Problemin Çözümünü Buraya Yazınız"
   ]
  }
 ],
 "metadata": {
  "kernelspec": {
   "display_name": "Python 3",
   "language": "python",
   "name": "python3"
  },
  "language_info": {
   "codemirror_mode": {
    "name": "ipython",
    "version": 3
   },
   "file_extension": ".py",
   "mimetype": "text/x-python",
   "name": "python",
   "nbconvert_exporter": "python",
   "pygments_lexer": "ipython3",
   "version": "3.13.2"
  },
  "orig_nbformat": 4,
  "vscode": {
   "interpreter": {
    "hash": "5026d2d6e7aaaaba093def813beadff083d8733e4a511af01735cbabd156995d"
   }
  }
 },
 "nbformat": 4,
 "nbformat_minor": 2
}
