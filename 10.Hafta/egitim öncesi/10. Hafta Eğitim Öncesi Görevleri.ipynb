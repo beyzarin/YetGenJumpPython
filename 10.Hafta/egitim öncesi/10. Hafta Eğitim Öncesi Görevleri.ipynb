{
 "cells": [
  {
   "attachments": {},
   "cell_type": "markdown",
   "metadata": {},
   "source": [
    "# Problem 1"
   ]
  },
  {
   "cell_type": "code",
   "execution_count": 16,
   "metadata": {},
   "outputs": [
    {
     "name": "stdout",
     "output_type": "stream",
     "text": [
      "[[5 3 2 0 3]\n",
      " [2 7 3 0 8]]\n",
      "2\n",
      "2\n"
     ]
    }
   ],
   "source": [
    "# 1 - numpy kütüphanesini import edin\n",
    "import numpy as np\n",
    "# 2 - 0 ile 10 arasında 5 sayıdan oluşan matris üretin\n",
    "x = np.random.randint(0,10,size=(2,5))\n",
    "print(x)\n",
    "# 3 - matris'in boyutunu öğrenin\n",
    "print(x.ndim)\n",
    "# 4 - matris'i yeniden boyutlandırın\n",
    "x.reshape(5,2)\n",
    "# 5 - matris'in boyut sayısını öğrenin\n",
    "print(x.ndim)\n"
   ]
  },
  {
   "attachments": {},
   "cell_type": "markdown",
   "metadata": {},
   "source": [
    "# Problem 2"
   ]
  },
  {
   "cell_type": "code",
   "execution_count": 61,
   "metadata": {},
   "outputs": [
    {
     "name": "stdout",
     "output_type": "stream",
     "text": [
      "[[1 9 5 9 7]\n",
      " [5 5 5 9 5]]\n",
      "[[1 9]\n",
      " [5 5]]\n",
      "[[5 9]\n",
      " [5 9]]\n",
      "[[7]\n",
      " [5]]\n",
      "[[1 9 5 9 7]\n",
      " [5 5 5 9 5]]\n"
     ]
    }
   ],
   "source": [
    "# 1 - 0 ile 10 arasında bulunan tek sayılardan oluşan matris üretin\n",
    "a = np.random.choice(np.arange(1,10,2), size=(2,5))\n",
    "print(a)\n",
    "\n",
    "# 2 - Oluşturduğunuz matrisi parçalayın\n",
    "a,b,c = np.split(a,[2,4], axis=1)\n",
    "print(a)\n",
    "print(b)        \n",
    "print(c)\n",
    "# 3 - Parçalanmış matrisleri birleştirin\n",
    "combined = np.concatenate([a, b, c], axis=1)\n",
    "print(combined)"
   ]
  },
  {
   "attachments": {},
   "cell_type": "markdown",
   "metadata": {},
   "source": [
    "# Problem 3"
   ]
  },
  {
   "cell_type": "code",
   "execution_count": null,
   "metadata": {},
   "outputs": [
    {
     "name": "stdout",
     "output_type": "stream",
     "text": [
      "Matris (a):\n",
      "[75 19 69 89 79 43 55 59 79 45]\n",
      "Matrisin boyutu: (10,)\n",
      "Matrisin boyut sayısı: 1\n",
      "Matrisin veri tipi: int64\n",
      "Matrisin toplam eleman sayısı: 10\n",
      "Matrisin toplamı: 612\n",
      "Matrisin ortalaması: 61.2\n",
      "Matrisin standart sapması: 20.188115315699978\n",
      "Matrisin maksimum değeri: 89\n",
      "Matrisin minimum değeri: 19\n",
      "Matrisin medyanı: 64.0\n",
      "Matrisin varyansı: 407.56\n"
     ]
    }
   ],
   "source": [
    "# 5 ile 100 arasında ikişer ikişer atlayarak 10 rastgele sayı seçelim\n",
    "a = np.random.choice(np.arange(5, 101, 2), size=10)\n",
    "print(\"Matris (a):\")\n",
    "print(a)\n",
    "\n",
    "# 2 - matris'in özelliklerini inceleyin\n",
    "print(\"Matrisin boyutu:\", a.shape)\n",
    "print(\"Matrisin boyut sayısı:\", a.ndim)\n",
    "print(\"Matrisin veri tipi:\", a.dtype)\n",
    "print(\"Matrisin toplam eleman sayısı:\", a.size)\n",
    "print(\"Matrisin toplamı:\", a.sum())\n",
    "print(\"Matrisin ortalaması:\", a.mean())\n",
    "print(\"Matrisin standart sapması:\", a.std())\n",
    "print(\"Matrisin maksimum değeri:\", a.max())\n",
    "print(\"Matrisin minimum değeri:\", a.min())\n",
    "print(\"Matrisin medyanı:\", np.median(a))\n",
    "print(\"Matrisin varyansı:\", np.var(a))\n"
   ]
  }
 ],
 "metadata": {
  "kernelspec": {
   "display_name": "Python 3",
   "language": "python",
   "name": "python3"
  },
  "language_info": {
   "codemirror_mode": {
    "name": "ipython",
    "version": 3
   },
   "file_extension": ".py",
   "mimetype": "text/x-python",
   "name": "python",
   "nbconvert_exporter": "python",
   "pygments_lexer": "ipython3",
   "version": "3.13.2"
  },
  "orig_nbformat": 4,
  "vscode": {
   "interpreter": {
    "hash": "5026d2d6e7aaaaba093def813beadff083d8733e4a511af01735cbabd156995d"
   }
  }
 },
 "nbformat": 4,
 "nbformat_minor": 2
}
