{
 "cells": [
  {
   "attachments": {},
   "cell_type": "markdown",
   "metadata": {},
   "source": [
    "# Problem 1 "
   ]
  },
  {
   "cell_type": "code",
   "execution_count": 5,
   "metadata": {},
   "outputs": [
    {
     "name": "stdout",
     "output_type": "stream",
     "text": [
      "[8 7 6 6 5]\n",
      "[5 6 6 7 8]\n"
     ]
    }
   ],
   "source": [
    "# 1 - numpy kütüphanesini import edin\n",
    "import numpy as np\n",
    "# 2 - 5 elemanlı bir numpy array oluşturun\n",
    "x = np.random.randint(0,10,size=(5))\n",
    "print(x)\n",
    "# 3 - Oluşturduğunuz arrayi küçükten büyüğe sıralayın.\n",
    "x.sort()\n",
    "print(x)"
   ]
  },
  {
   "attachments": {},
   "cell_type": "markdown",
   "metadata": {},
   "source": [
    "# Problem 2"
   ]
  },
  {
   "cell_type": "code",
   "execution_count": 37,
   "metadata": {},
   "outputs": [
    {
     "name": "stdout",
     "output_type": "stream",
     "text": [
      "[[8 6 2 3 0]\n",
      " [5 3 4 7 3]]\n",
      "[ 50  55  60  65  70  75  80  85  90  95 100]\n",
      "[0. 0. 0. 0. 0. 0. 0. 0. 0. 0.]\n",
      "[1. 1. 1. 1. 1. 1. 1. 1. 1. 1.]\n",
      "[  0.           4.20833333   8.41666667  12.625       16.83333333\n",
      "  21.04166667  25.25        29.45833333  33.66666667  37.875\n",
      "  42.08333333  46.29166667  50.5         54.70833333  58.91666667\n",
      "  63.125       67.33333333  71.54166667  75.75        79.95833333\n",
      "  84.16666667  88.375       92.58333333  96.79166667 101.        ]\n",
      "[20 27 14 23 10]\n",
      "[ 1.  0. -1. -1.  0.  1. -1. -1.  0.  1.]\n",
      "[[33 20 27 48 24]\n",
      " [40 47 46 45 36]]\n",
      "7\n",
      "48\n",
      "20\n",
      "36.6\n",
      "3\n",
      "[[33 20 27 48 24]\n",
      " [40 47 46 45 36]]\n",
      "[[40 47 46 45 36]\n",
      " [33 20 27 48 24]]\n",
      "[33 20 27 48 24]\n",
      "46\n",
      "[33 40]\n",
      "[[1089  400  729 2304  576]\n",
      " [1600 2209 2116 2025 1296]]\n",
      "[[-36 -37  47 -48  24]\n",
      " [ 46  -3  14 -25 -50]]\n",
      "[24 46 14]\n"
     ]
    }
   ],
   "source": [
    "# 1- (10,15,30,45,60) değerlerine sahip numpy dizisi oluşturunuz.\n",
    "a = np.array\n",
    "\n",
    "# 2- (5-15) arasındaki sayılarla numpy dizisi oluşturunuz.\n",
    "x = np.random.randint(0,10,size=(2,5))# bir aralıktan rastgele sayılar üretir.\n",
    "print(x)\n",
    "# 3- (50-100) arasında 5'er 5'er artarak numpy dizisi oluşturunuz.\n",
    "a = np.arange(50,101,5)\n",
    "print(a)\n",
    "# 4- 10 elemanlı sıfırlardan oluşan bir dizi oluşturunuz.\n",
    "v = np.zeros(10)\n",
    "print(v)\n",
    "\n",
    "# 5- 10 elemanlı birlerden oluşan bir dizi oluşturunuz.\n",
    "l = np.ones(10)\n",
    "print(l)\n",
    "\n",
    "# 6- (0-100) arasında eşit aralıklı 5 sayı üretin.\n",
    "x = np.linspace(0,101,25)\n",
    "print(x)\n",
    "\n",
    "# 7- (10-30) arasında rastgele 5 tane tamsayı üretin.\n",
    "x = np.random.randint(10,31,5)\n",
    "print(x)\n",
    "# 8- [-1 ile 1] arasında 10 adet sayı üretin.\n",
    "x = np.random.randint(-1,2,size=(10)).astype(float)# bir aralıktan rastgele sayılar üretir.\n",
    "print(x) \n",
    "\n",
    "# 9- (3x5) boyutlarında (10-50) arasında rastgele bir matris oluşturunuz.\n",
    "x = np.random.randint(9,50,size=(2,5))# bir aralıktan rastgele sayılar üretir.\n",
    "print(x)\n",
    "\n",
    "# 10- Üretilen matrisin satır ve sütun sayıları toplamlarını hesaplayınız ?\n",
    "\n",
    "print(x.shape[0] + x.shape[1]) # satır sayısı + sütun sayısı\n",
    "\n",
    "\n",
    "# 11- Üretilen matrisin en büyük, en küçük ve ortalaması nedir ?\n",
    "print(x.max()) # en büyük eleman\n",
    "print(x.min()) # en küçük eleman\n",
    "print(x.mean()) # ortalama\n",
    "\n",
    "# 12- Üretilen matrisin en büyük değerinin indeksi kaçtır ?\n",
    "print(x.argmax()) # en büyük elemanın indeksi\n",
    "\n",
    "# 13- (10-20) arasındaki sayıları içeren dizinin ilk 3 elemanını seçiniz.\n",
    "x[0:3] # 0'dan 3'e kadar olan elemanları alır. 0 dahil, 3 hariç.\n",
    "print(x[0:3])\n",
    "\n",
    "# 14- Üretilen dizinin elemanlarını tersten yazdırın.\n",
    "print(x[::-1])\n",
    "\n",
    "# 15- Üretilen matrisin ilk satırını seçiniz.\n",
    "print(x[0]) # 0. satır\n",
    "\n",
    "# 16- Üretilen matrisin 2.satır 3.sütundaki elemanı hangisidir ?\n",
    "print(x[1,2]) # 1. satır 2. sütundaki eleman\n",
    "\n",
    "# 17- Üretilen matrisin tüm satırlardaki ilk elemanı seçiniz.\n",
    "print(x[:,0]) # tüm satırlardaki 0. sütundaki elemanları alır.\n",
    "\n",
    "# 18- Üretilen matrisin her bir elemanının karesini alınız.\n",
    "print(x**2) # her bir elemanın karesini alır.\n",
    "\n",
    "# 19- Üretilen matris elemanlarının hangisi pozitif çift sayıdır ? Aralığı (-50,+50) arasında yapınız.\n",
    "x = np.random.randint(-50,50,size=(2,5))# bir aralıktan rastgele sayılar üretir.\n",
    "print(x) # rastgele üretilen matris\n",
    "print(x[(x > 0) & (x % 2 == 0)]) # pozitif çift sayıları alır.\n",
    "\n"
   ]
  }
 ],
 "metadata": {
  "kernelspec": {
   "display_name": "Python 3",
   "language": "python",
   "name": "python3"
  },
  "language_info": {
   "codemirror_mode": {
    "name": "ipython",
    "version": 3
   },
   "file_extension": ".py",
   "mimetype": "text/x-python",
   "name": "python",
   "nbconvert_exporter": "python",
   "pygments_lexer": "ipython3",
   "version": "3.13.2"
  },
  "orig_nbformat": 4,
  "vscode": {
   "interpreter": {
    "hash": "5026d2d6e7aaaaba093def813beadff083d8733e4a511af01735cbabd156995d"
   }
  }
 },
 "nbformat": 4,
 "nbformat_minor": 2
}
